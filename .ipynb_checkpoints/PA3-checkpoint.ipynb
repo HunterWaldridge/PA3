{
 "cells": [
  {
   "cell_type": "markdown",
   "id": "59c67fcf",
   "metadata": {},
   "source": [
    "# Hunter Waldridge\n",
    "## Programming Assignment 3\n",
    "### CS-150\n",
    "### Bellarmine University"
   ]
  },
  {
   "cell_type": "markdown",
   "id": "a63f0593",
   "metadata": {},
   "source": [
    "### a. Calculate area and perimeter of a triangle"
   ]
  },
  {
   "cell_type": "code",
   "execution_count": 56,
   "id": "830d2d3b",
   "metadata": {},
   "outputs": [
    {
     "name": "stdout",
     "output_type": "stream",
     "text": [
      "Enter the length of side A:4\n",
      "Enter the length of side B:7\n",
      "Enter the length of side C:5\n",
      "The area of the triangle is approximately 9.797958971132712 square units\n",
      "The perimeter of the triangle is 16 linear units\n"
     ]
    }
   ],
   "source": [
    "from math import sqrt\n",
    "\n",
    "def calcArea():\n",
    "    return sqrt((s*(s-a)*(s-b)*(s-c)))\n",
    "def calcPerimeter():\n",
    "    return a+b+c\n",
    "\n",
    "s=((a+b+c)/2)\n",
    "\n",
    "a = int(input(\"Enter the length of side A:\"))\n",
    "b = int(input(\"Enter the length of side B:\"))\n",
    "c = int(input(\"Enter the length of side C:\"))\n",
    "\n",
    "print(\"The area of the triangle is approximately\", calcArea(),\"square units\")\n",
    "print(\"The perimeter of the triangle is\", calcPerimeter(),\"linear units\")"
   ]
  },
  {
   "cell_type": "markdown",
   "id": "4f908d40",
   "metadata": {},
   "source": [
    "### b. \"Guess the Number\""
   ]
  },
  {
   "cell_type": "code",
   "execution_count": 54,
   "id": "51e88724",
   "metadata": {},
   "outputs": [
    {
     "name": "stdout",
     "output_type": "stream",
     "text": [
      "Guess the number between 1 and 1000:532\n",
      "Too high! Try again.\n",
      "Guess the number between 1 and 1000:430\n",
      "Too high! Try again.\n",
      "Guess the number between 1 and 1000:300\n",
      "Too high! Try again.\n",
      "Guess the number between 1 and 1000:200\n",
      "Too low! Try again.\n",
      "Guess the number between 1 and 1000:230\n",
      "Too low! Try again.\n",
      "Guess the number between 1 and 1000:250\n",
      "Too low! Try again.\n",
      "Guess the number between 1 and 1000:260\n",
      "Too low! Try again.\n",
      "Guess the number between 1 and 1000:290\n",
      "Too high! Try again.\n",
      "Guess the number between 1 and 1000:280\n",
      "Too low! Try again.\n",
      "Guess the number between 1 and 1000:284\n",
      "Too low! Try again.\n",
      "Guess the number between 1 and 1000:285\n",
      "Too low! Try again.\n",
      "Guess the number between 1 and 1000:287\n",
      "Too low! Try again.\n",
      "Guess the number between 1 and 1000:289\n",
      "Congratulations, that was correct!\n",
      "Not too bad! You got it in 12 tries!\n"
     ]
    }
   ],
   "source": [
    "def evaluateGuess():\n",
    "    from random import randint\n",
    "    number=randint(1,1001)\n",
    "    time=0\n",
    "    guess=None\n",
    "    while guess!=number:\n",
    "        guess=int(input(\"Guess the number between 1 and 1000:\"))\n",
    "        if guess==number:\n",
    "            print(\"Congratulations, that was correct!\")\n",
    "            if time==1:\n",
    "                print(\"WOW. You got it in one try!\")\n",
    "            elif time>1 and time<15:\n",
    "                print(f\"Not too bad! You got it in {time} tries!\")\n",
    "            elif time>=15 and time<=15:\n",
    "                print(f\"You did just okay. You got it in {time} tries.\")\n",
    "            elif time>15:\n",
    "                print(f\"Yikes. It took you {time} tries!:( Play again and try for less :)\")\n",
    "        elif guess<number:\n",
    "            print(\"Too low! Try again.\")\n",
    "        elif guess>number:\n",
    "            print(\"Too high! Try again.\")\n",
    "        time+=1\n",
    "evaluateGuess()\n",
    "    \n",
    "# I added in some extra comments when user is correct\n",
    "# regarding how many attempts was taken when trying \n",
    "# to guess the number!"
   ]
  },
  {
   "cell_type": "markdown",
   "id": "e452c6a2",
   "metadata": {},
   "source": [
    "### c. Mean temperature"
   ]
  },
  {
   "cell_type": "code",
   "execution_count": 15,
   "id": "6667e4b2",
   "metadata": {},
   "outputs": [
    {
     "name": "stdout",
     "output_type": "stream",
     "text": [
      "The mean temperature for the past 3 days is 31.666666666666668 degrees F.\n",
      "The mean temperature for the past 6 days is 30.833333333333332 degrees F.\n",
      "The mean temperature for the past 12 days is 75.16666666666667 degrees F.\n"
     ]
    }
   ],
   "source": [
    "def meanTemp(*temps):\n",
    "    x = sum(temps)/len(temps)\n",
    "    num_days = len(temps)\n",
    "    return print(\"The mean temperature for the past\", num_days,\"days is\", x,\"degrees F.\")\n",
    "meanTemp(29,32,34)\n",
    "meanTemp(30,32,12,45,32,34)\n",
    "meanTemp(70,72,83,74,74,72,70,81,90,82,72,62)"
   ]
  }
 ],
 "metadata": {
  "kernelspec": {
   "display_name": "Python 3",
   "language": "python",
   "name": "python3"
  },
  "language_info": {
   "codemirror_mode": {
    "name": "ipython",
    "version": 3
   },
   "file_extension": ".py",
   "mimetype": "text/x-python",
   "name": "python",
   "nbconvert_exporter": "python",
   "pygments_lexer": "ipython3",
   "version": "3.8.8"
  }
 },
 "nbformat": 4,
 "nbformat_minor": 5
}
